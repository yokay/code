{
 "cells": [
  {
   "cell_type": "code",
   "execution_count": 1,
   "metadata": {},
   "outputs": [],
   "source": [
    "import math\n"
   ]
  },
  {
   "cell_type": "code",
   "execution_count": 2,
   "metadata": {},
   "outputs": [],
   "source": [
    "import math\n",
    "\n",
    "def calculate_ap(p_out, efficiency, b_w, f, k_c=0.4, k_u=4, j=400):\n",
    "    \"\"\"\n",
    "    计算推挽变压器的AP值。\n",
    "\n",
    "    参数:\n",
    "    p_out -- 输出功率，单位为W\n",
    "    efficiency -- 变换器效率，取值范围为0到1\n",
    "    b_w -- 磁芯材料工作磁通密度，单位为T\n",
    "    f -- 开关频率，单位为Hz\n",
    "    k_c -- 绕组的窗口填充系数，默认值为0.4\n",
    "    k_u -- 波形系数，默认值为4\n",
    "    j -- 导线的电流密度，单位为A/cm²，默认值为400\n",
    "\n",
    "    返回:\n",
    "    ap -- 磁芯窗口面积与有效截面积的乘积，单位为m⁴\n",
    "    \"\"\"\n",
    "    if not 0 < efficiency <= 1:\n",
    "        raise ValueError(\"变换器效率必须在 0 到 1 之间。\")\n",
    "    p_t = p_out * (1 + math.sqrt(2) / efficiency)\n",
    "    ap = p_t / (b_w * f * k_c * k_u * j)\n",
    "    ap = ap *1e4  # 将结果转换为cm⁴\n",
    "    return ap\n"
   ]
  },
  {
   "cell_type": "code",
   "execution_count": 3,
   "metadata": {},
   "outputs": [
    {
     "name": "stdout",
     "output_type": "stream",
     "text": [
      "计算得到的AP值为: 50221.64848899946 mm⁴\n"
     ]
    }
   ],
   "source": [
    "# 示例使用\n",
    "p_out_example = 1100 # 输出功率1100W\n",
    "efficiency_example = 0.9  # 变换器效率0.9\n",
    "b_w_example = 0.16  # 磁芯材料工作磁通密度0.16T\n",
    "f_example = 55000  # 开关频率55kHz\n",
    "ap_result = calculate_ap(p_out_example, efficiency_example, b_w_example, f_example)\n",
    "print(f\"计算得到的AP值为: {ap_result*1e4} mm⁴\")"
   ]
  },
  {
   "cell_type": "code",
   "execution_count": 4,
   "metadata": {},
   "outputs": [
    {
     "name": "stdout",
     "output_type": "stream",
     "text": [
      "计算得到的AP值为: 0.037833130368119416 cm⁴\n"
     ]
    }
   ],
   "source": [
    "# 示例使用\n",
    "p_out_example = 3 # 输出功率3W\n",
    "efficiency_example = 0.2  # 变换器效率0.2\n",
    "b_w_example = 0.01  # 磁芯材料工作磁通密度0.01T\n",
    "f_example = 1e6  # 开关频率1000kHz\n",
    "ap_result = calculate_ap(p_out_example, efficiency_example, b_w_example, f_example)\n",
    "print(f\"计算得到的AP值为: {ap_result} cm⁴\")\n"
   ]
  },
  {
   "cell_type": "code",
   "execution_count": 6,
   "metadata": {},
   "outputs": [
    {
     "name": "stderr",
     "output_type": "stream",
     "text": [
      "2025-04-26 22:44:24.784 WARNING streamlit.runtime.scriptrunner_utils.script_run_context: Thread 'MainThread': missing ScriptRunContext! This warning can be ignored when running in bare mode.\n",
      "2025-04-26 22:44:24.919 \n",
      "  \u001b[33m\u001b[1mWarning:\u001b[0m to view this Streamlit app on a browser, run it with the following\n",
      "  command:\n",
      "\n",
      "    streamlit run e:\\envs\\latest\\Lib\\site-packages\\ipykernel_launcher.py [ARGUMENTS]\n",
      "2025-04-26 22:44:24.920 Thread 'MainThread': missing ScriptRunContext! This warning can be ignored when running in bare mode.\n",
      "2025-04-26 22:44:24.920 Thread 'MainThread': missing ScriptRunContext! This warning can be ignored when running in bare mode.\n",
      "2025-04-26 22:44:24.921 Thread 'MainThread': missing ScriptRunContext! This warning can be ignored when running in bare mode.\n",
      "2025-04-26 22:44:24.921 Thread 'MainThread': missing ScriptRunContext! This warning can be ignored when running in bare mode.\n",
      "2025-04-26 22:44:24.922 Thread 'MainThread': missing ScriptRunContext! This warning can be ignored when running in bare mode.\n",
      "2025-04-26 22:44:24.923 Session state does not function when running a script without `streamlit run`\n",
      "2025-04-26 22:44:24.923 Thread 'MainThread': missing ScriptRunContext! This warning can be ignored when running in bare mode.\n",
      "2025-04-26 22:44:24.924 Thread 'MainThread': missing ScriptRunContext! This warning can be ignored when running in bare mode.\n",
      "2025-04-26 22:44:24.925 Thread 'MainThread': missing ScriptRunContext! This warning can be ignored when running in bare mode.\n",
      "2025-04-26 22:44:24.926 Thread 'MainThread': missing ScriptRunContext! This warning can be ignored when running in bare mode.\n",
      "2025-04-26 22:44:24.926 Thread 'MainThread': missing ScriptRunContext! This warning can be ignored when running in bare mode.\n",
      "2025-04-26 22:44:24.927 Thread 'MainThread': missing ScriptRunContext! This warning can be ignored when running in bare mode.\n",
      "2025-04-26 22:44:24.927 Thread 'MainThread': missing ScriptRunContext! This warning can be ignored when running in bare mode.\n",
      "2025-04-26 22:44:24.928 Thread 'MainThread': missing ScriptRunContext! This warning can be ignored when running in bare mode.\n",
      "2025-04-26 22:44:24.929 Thread 'MainThread': missing ScriptRunContext! This warning can be ignored when running in bare mode.\n",
      "2025-04-26 22:44:24.930 Thread 'MainThread': missing ScriptRunContext! This warning can be ignored when running in bare mode.\n",
      "2025-04-26 22:44:24.930 Thread 'MainThread': missing ScriptRunContext! This warning can be ignored when running in bare mode.\n",
      "2025-04-26 22:44:24.931 Thread 'MainThread': missing ScriptRunContext! This warning can be ignored when running in bare mode.\n",
      "2025-04-26 22:44:24.931 Thread 'MainThread': missing ScriptRunContext! This warning can be ignored when running in bare mode.\n",
      "2025-04-26 22:44:24.932 Thread 'MainThread': missing ScriptRunContext! This warning can be ignored when running in bare mode.\n",
      "2025-04-26 22:44:24.932 Thread 'MainThread': missing ScriptRunContext! This warning can be ignored when running in bare mode.\n",
      "2025-04-26 22:44:24.933 Thread 'MainThread': missing ScriptRunContext! This warning can be ignored when running in bare mode.\n",
      "2025-04-26 22:44:24.933 Thread 'MainThread': missing ScriptRunContext! This warning can be ignored when running in bare mode.\n",
      "2025-04-26 22:44:24.934 Thread 'MainThread': missing ScriptRunContext! This warning can be ignored when running in bare mode.\n",
      "2025-04-26 22:44:24.934 Thread 'MainThread': missing ScriptRunContext! This warning can be ignored when running in bare mode.\n",
      "2025-04-26 22:44:24.935 Thread 'MainThread': missing ScriptRunContext! This warning can be ignored when running in bare mode.\n",
      "2025-04-26 22:44:24.935 Thread 'MainThread': missing ScriptRunContext! This warning can be ignored when running in bare mode.\n",
      "2025-04-26 22:44:24.936 Thread 'MainThread': missing ScriptRunContext! This warning can be ignored when running in bare mode.\n",
      "2025-04-26 22:44:24.936 Thread 'MainThread': missing ScriptRunContext! This warning can be ignored when running in bare mode.\n",
      "2025-04-26 22:44:24.937 Thread 'MainThread': missing ScriptRunContext! This warning can be ignored when running in bare mode.\n",
      "2025-04-26 22:44:24.937 Thread 'MainThread': missing ScriptRunContext! This warning can be ignored when running in bare mode.\n"
     ]
    }
   ],
   "source": [
    "import streamlit as st\n",
    "\n",
    "# 假设这是 calculate_ap 函数，你需要根据实际情况替换\n",
    "def calculate_ap(p_out, efficiency, b_w, f):\n",
    "    # 这里只是示例实现，你需要替换为真实的计算逻辑\n",
    "    return (p_out * (1 / efficiency)) / (b_w * f)\n",
    "\n",
    "st.title('推挽变压器 AP 值计算')\n",
    "\n",
    "# 创建输入组件\n",
    "p_out = st.number_input('输出功率 (W)', value=3)\n",
    "efficiency = st.number_input('变换器效率', min_value=0.01, max_value=1.0, value=0.2)\n",
    "b_w = st.number_input('磁芯材料工作磁通密度 (T)', value=0.01)\n",
    "f = st.number_input('开关频率 (Hz)', value=1e6)\n",
    "\n",
    "# 计算并显示结果\n",
    "if st.button('计算'):\n",
    "    ap_result = calculate_ap(p_out, efficiency, b_w, f)\n",
    "    st.write(f\"计算得到的 AP 值为: {ap_result} cm⁴\")\n"
   ]
  }
 ],
 "metadata": {
  "kernelspec": {
   "display_name": "Python 3",
   "language": "python",
   "name": "python3"
  },
  "language_info": {
   "codemirror_mode": {
    "name": "ipython",
    "version": 3
   },
   "file_extension": ".py",
   "mimetype": "text/x-python",
   "name": "python",
   "nbconvert_exporter": "python",
   "pygments_lexer": "ipython3",
   "version": "3.12.8"
  }
 },
 "nbformat": 4,
 "nbformat_minor": 2
}
