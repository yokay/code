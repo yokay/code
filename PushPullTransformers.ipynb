{
 "cells": [
  {
   "cell_type": "code",
   "execution_count": 1,
   "metadata": {},
   "outputs": [],
   "source": [
    "import math\n"
   ]
  },
  {
   "cell_type": "code",
   "execution_count": 27,
   "metadata": {},
   "outputs": [],
   "source": [
    "import math\n",
    "\n",
    "def calculate_ap(p_out, efficiency, b_w, f, k_c=0.4, k_u=4, j=400):\n",
    "    \"\"\"\n",
    "    计算推挽变压器的AP值。\n",
    "\n",
    "    参数:\n",
    "    p_out -- 输出功率，单位为W\n",
    "    efficiency -- 变换器效率，取值范围为0到1\n",
    "    b_w -- 磁芯材料工作磁通密度，单位为T\n",
    "    f -- 开关频率，单位为Hz\n",
    "    k_c -- 绕组的窗口填充系数，默认值为0.4\n",
    "    k_u -- 波形系数，默认值为4\n",
    "    j -- 导线的电流密度，单位为A/cm²，默认值为400\n",
    "\n",
    "    返回:\n",
    "    ap -- 磁芯窗口面积与有效截面积的乘积，单位为m⁴\n",
    "    \"\"\"\n",
    "    if not 0 < efficiency <= 1:\n",
    "        raise ValueError(\"变换器效率必须在 0 到 1 之间。\")\n",
    "    p_t = p_out * (1 + math.sqrt(2) / efficiency)\n",
    "    ap = p_t / (b_w * f * k_c * k_u * j)\n",
    "    ap = ap *1e4  # 将结果转换为cm⁴\n",
    "    return ap\n"
   ]
  },
  {
   "cell_type": "code",
   "execution_count": 31,
   "metadata": {},
   "outputs": [
    {
     "name": "stdout",
     "output_type": "stream",
     "text": [
      "计算得到的AP值为: 50221.64848899946 mm⁴\n"
     ]
    }
   ],
   "source": [
    "# 示例使用\n",
    "p_out_example = 1100 # 输出功率1100W\n",
    "efficiency_example = 0.9  # 变换器效率0.9\n",
    "b_w_example = 0.16  # 磁芯材料工作磁通密度0.16T\n",
    "f_example = 55000  # 开关频率55kHz\n",
    "ap_result = calculate_ap(p_out_example, efficiency_example, b_w_example, f_example)\n",
    "print(f\"计算得到的AP值为: {ap_result*1e4} mm⁴\")"
   ]
  },
  {
   "cell_type": "code",
   "execution_count": 33,
   "metadata": {},
   "outputs": [
    {
     "name": "stdout",
     "output_type": "stream",
     "text": [
      "计算得到的AP值为: 0.037833130368119416 cm⁴\n"
     ]
    }
   ],
   "source": [
    "# 示例使用\n",
    "p_out_example = 3 # 输出功率1100W\n",
    "efficiency_example = 0.2  # 变换器效率0.9\n",
    "b_w_example = 0.01  # 磁芯材料工作磁通密度0.16T\n",
    "f_example = 1e6  # 开关频率55kHz\n",
    "ap_result = calculate_ap(p_out_example, efficiency_example, b_w_example, f_example)\n",
    "print(f\"计算得到的AP值为: {ap_result} cm⁴\")"
   ]
  },
  {
   "cell_type": "code",
   "execution_count": null,
   "metadata": {},
   "outputs": [],
   "source": []
  }
 ],
 "metadata": {
  "kernelspec": {
   "display_name": "Python 3",
   "language": "python",
   "name": "python3"
  },
  "language_info": {
   "codemirror_mode": {
    "name": "ipython",
    "version": 3
   },
   "file_extension": ".py",
   "mimetype": "text/x-python",
   "name": "python",
   "nbconvert_exporter": "python",
   "pygments_lexer": "ipython3",
   "version": "3.12.8"
  }
 },
 "nbformat": 4,
 "nbformat_minor": 2
}
