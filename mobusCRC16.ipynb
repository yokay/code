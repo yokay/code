{
 "cells": [
  {
   "cell_type": "code",
   "execution_count": 51,
   "metadata": {},
   "outputs": [],
   "source": [
    "import serial as ser\n",
    "from serial.tools import list_ports\n",
    "from crcmod import mkCrcFun\n",
    "import time"
   ]
  },
  {
   "cell_type": "code",
   "execution_count": 34,
   "metadata": {},
   "outputs": [],
   "source": [
    "\n",
    "# Modbus CRC16校验函数（多项式0x8005，初始值0xFFFF）\n",
    "crc16 = mkCrcFun(0x18005, rev=True, initCrc=0xFFFF, xorOut=0x0000)\n"
   ]
  },
  {
   "cell_type": "code",
   "execution_count": 35,
   "metadata": {},
   "outputs": [],
   "source": [
    "list_ports = list_ports.comports()"
   ]
  },
  {
   "cell_type": "code",
   "execution_count": 36,
   "metadata": {},
   "outputs": [
    {
     "name": "stdout",
     "output_type": "stream",
     "text": [
      "/dev/ttyUSB0 - FT232R USB UART - FT232R USB UART\n"
     ]
    }
   ],
   "source": [
    "for port in list_ports:\n",
    "    print(port)"
   ]
  },
  {
   "cell_type": "code",
   "execution_count": 37,
   "metadata": {},
   "outputs": [],
   "source": [
    "def list_com_ports():\n",
    "    \"\"\"获取系统可用串口列表\"\"\"\n",
    "    \n",
    "    ports = ser.tools.list_ports.comports()\n",
    "    return [port.device for port in ports]"
   ]
  },
  {
   "cell_type": "code",
   "execution_count": 38,
   "metadata": {},
   "outputs": [
    {
     "data": {
      "text/plain": [
       "['/dev/ttyUSB0']"
      ]
     },
     "execution_count": 38,
     "metadata": {},
     "output_type": "execute_result"
    }
   ],
   "source": [
    "list_com_ports()"
   ]
  },
  {
   "cell_type": "code",
   "execution_count": 39,
   "metadata": {},
   "outputs": [],
   "source": [
    "ser_port = ser.Serial(\n",
    "        port='/dev/ttyUSB0',\n",
    "        baudrate=115200,\n",
    "        bytesize=ser.EIGHTBITS,\n",
    "        parity=ser.PARITY_NONE,\n",
    "        stopbits=ser.STOPBITS_ONE,\n",
    "        timeout=1\n",
    "    )"
   ]
  },
  {
   "cell_type": "code",
   "execution_count": 40,
   "metadata": {},
   "outputs": [],
   "source": [
    "HEADER = 0x0706\n",
    "ADDR = 0x0001\n",
    "DATALEN = 0x04\n",
    "CRC16 = 0x0000"
   ]
  },
  {
   "cell_type": "code",
   "execution_count": 41,
   "metadata": {},
   "outputs": [],
   "source": [
    "buf = []"
   ]
  },
  {
   "cell_type": "code",
   "execution_count": 46,
   "metadata": {},
   "outputs": [],
   "source": [
    "def gen_cmd(addr ,data, length):\n",
    "    \"\"\"生成Modbus命令帧\"\"\"\n",
    "    \n",
    "    # 构造基础数据包\n",
    "    packet = bytearray()\n",
    "    packet.extend(HEADER.to_bytes(2, 'big'))  # 大端序包头\n",
    "    packet.extend(ADDR.to_bytes(2, 'little'))    # 设备地址\n",
    "    \n",
    "    # 添加数据部分\n",
    "    packet.extend(length.to_bytes(1, 'big'))  # 数据长度\n",
    "    packet.extend(data.to_bytes(length, 'little'))                     # 数据本体\n",
    "    \n",
    "    # 计算并附加CRC\n",
    "    crc = crc16(packet)\n",
    "    packet.extend(crc.to_bytes(2, 'big'))\n",
    "    \n",
    "    print(packet.hex())\n",
    "    return bytes(packet)\n",
    "\n",
    "    "
   ]
  },
  {
   "cell_type": "code",
   "execution_count": 48,
   "metadata": {},
   "outputs": [
    {
     "name": "stdout",
     "output_type": "stream",
     "text": [
      "0706010004401f0000ec69\n"
     ]
    }
   ],
   "source": [
    "buf = gen_cmd(0x0001,8000,4)"
   ]
  },
  {
   "cell_type": "code",
   "execution_count": 64,
   "metadata": {},
   "outputs": [
    {
     "name": "stdout",
     "output_type": "stream",
     "text": [
      ">: 07 06 01 00 04 40 1f 00 00 ec 69\n"
     ]
    }
   ],
   "source": [
    "# 发送完整数据包\n",
    "ser_port.write(buf)\n",
    "ser_port.flush()  # 确保数据完全发送\n",
    "\n",
    "# # 读取响应（根据协议设置合适的读取超时和字节数）\n",
    "# response = ser_port.read(size=32)  # 根据实际响应长度调整\n",
    "\n",
    "# # 打印通信结果\n",
    "print(f\">: {buf.hex(' ')}\")\n",
    "# print(f\"收到响应: {response.hex(' ') if response else '无响应'}\")\n"
   ]
  },
  {
   "cell_type": "code",
   "execution_count": 65,
   "metadata": {},
   "outputs": [
    {
     "name": "stdout",
     "output_type": "stream",
     "text": [
      "<: 07 06 01 00 04 40 1f 00 00 ec 69\n"
     ]
    }
   ],
   "source": [
    "timeout = 0.5        # 单次读取超时时间\n",
    "buffer = bytearray()\n",
    "\n",
    "while ser_port.is_open:\n",
    "    chunk = ser_port.read(1)  # 每次读取1字节\n",
    "    if chunk:\n",
    "        buffer.extend(chunk)\n",
    "    else:\n",
    "        print(\"<:\", buffer.hex(' ') if buffer else \"NO DATA\")\n",
    "        break\n"
   ]
  },
  {
   "cell_type": "code",
   "execution_count": null,
   "metadata": {},
   "outputs": [],
   "source": []
  }
 ],
 "metadata": {
  "kernelspec": {
   "display_name": "base",
   "language": "python",
   "name": "python3"
  },
  "language_info": {
   "codemirror_mode": {
    "name": "ipython",
    "version": 3
   },
   "file_extension": ".py",
   "mimetype": "text/x-python",
   "name": "python",
   "nbconvert_exporter": "python",
   "pygments_lexer": "ipython3",
   "version": "3.12.7"
  }
 },
 "nbformat": 4,
 "nbformat_minor": 2
}
