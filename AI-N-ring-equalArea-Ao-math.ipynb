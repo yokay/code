{
 "cells": [
  {
   "cell_type": "code",
   "execution_count": 19,
   "metadata": {},
   "outputs": [],
   "source": [
    "import numpy as np\n",
    "import matplotlib.pyplot as plt\n",
    "from scipy.special import j1\n",
    "from matplotlib.patches import Wedge\n",
    "import pandas as pd  # 导入 pandas 库"
   ]
  },
  {
   "cell_type": "code",
   "execution_count": 20,
   "metadata": {},
   "outputs": [],
   "source": [
    "# 定义物理参数\n",
    "c = 1500  # 声速，单位：m/s\n",
    "rho0 = 1000  # 介质密度，单位：kg/m^3\n",
    "f = 4e6  # 频率，单位：Hz\n",
    "k = 2 * np.pi * f / c  # 波数\n",
    "w = 2 * np.pi * f  # 角频率\n",
    "u = 1  # 质点振动速度"
   ]
  },
  {
   "cell_type": "code",
   "execution_count": 21,
   "metadata": {},
   "outputs": [],
   "source": [
    "# 定义环形相控阵参数\n",
    "m = 10  # 圆环个数\n",
    "lambda_ = c / f  # 波长\n",
    "R_max = 10e-3  # 中心阵元到最大辐射圆环中心的距离，单位：m\n",
    "F = 14e-3  # 聚焦焦距，单位：m\n",
    "n = 0.6 #(m - 1) / m  # 圆环间距与波长的倍数系数\n",
    "delta_d = n * lambda_  # 圆环之间的间距\n",
    "# 定义 theta 范围\n",
    "theta_values = np.linspace(-np.pi/2 , np.pi /2, 1000)\n",
    "total_area = np.pi * R_max ** 2\n",
    "\n",
    "# 固定 r、phi 和 t 的值\n",
    "r = F  # 可根据需要调整 r 的值\n",
    "phi = 0\n",
    "t = 0"
   ]
  },
  {
   "cell_type": "code",
   "execution_count": 22,
   "metadata": {},
   "outputs": [
    {
     "name": "stdout",
     "output_type": "stream",
     "text": [
      "0.038637033051562734\n"
     ]
    }
   ],
   "source": [
    "xita = 15\n",
    "rm = R_max/np.sin(xita/360*2*np.pi)\n",
    "print(rm)"
   ]
  },
  {
   "cell_type": "code",
   "execution_count": 23,
   "metadata": {},
   "outputs": [
    {
     "name": "stdout",
     "output_type": "stream",
     "text": [
      "0.00031960439316471484\n"
     ]
    }
   ],
   "source": [
    "Smax = 2*np.pi*rm**2*(1-np.cos(xita/360*2*np.pi))\n",
    "print(Smax)"
   ]
  },
  {
   "cell_type": "code",
   "execution_count": 24,
   "metadata": {},
   "outputs": [
    {
     "name": "stdout",
     "output_type": "stream",
     "text": [
      "3.1960439316471485e-05\n"
     ]
    }
   ],
   "source": [
    "avgs = Smax / m\n",
    "print(avgs)"
   ]
  },
  {
   "cell_type": "code",
   "execution_count": 25,
   "metadata": {},
   "outputs": [
    {
     "name": "stdout",
     "output_type": "stream",
     "text": [
      "0.003407417371093169\n"
     ]
    }
   ],
   "source": [
    "ck = avgs/(2*np.pi*rm**2)\n",
    "print(ck)"
   ]
  },
  {
   "cell_type": "code",
   "execution_count": 27,
   "metadata": {},
   "outputs": [
    {
     "name": "stdout",
     "output_type": "stream",
     "text": [
      "4.731225985209605\n"
     ]
    }
   ],
   "source": [
    "phi0 = np.arccos(1-ck)/(2*np.pi)*360\n",
    "print(phi0)"
   ]
  },
  {
   "cell_type": "code",
   "execution_count": null,
   "metadata": {},
   "outputs": [],
   "source": []
  }
 ],
 "metadata": {
  "kernelspec": {
   "display_name": "kwave",
   "language": "python",
   "name": "python3"
  },
  "language_info": {
   "codemirror_mode": {
    "name": "ipython",
    "version": 3
   },
   "file_extension": ".py",
   "mimetype": "text/x-python",
   "name": "python",
   "nbconvert_exporter": "python",
   "pygments_lexer": "ipython3",
   "version": "3.12.8"
  }
 },
 "nbformat": 4,
 "nbformat_minor": 2
}
